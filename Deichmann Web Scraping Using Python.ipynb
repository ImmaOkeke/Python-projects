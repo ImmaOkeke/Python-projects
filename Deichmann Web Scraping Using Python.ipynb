{
 "cells": [
  {
   "cell_type": "markdown",
   "id": "2086f124-c5d9-410d-9353-2951095e744b",
   "metadata": {},
   "source": [
    "# Deichmann Web Scraping #"
   ]
  },
  {
   "cell_type": "code",
   "execution_count": 4,
   "id": "f7478886-8c87-4e7b-8ebd-cd4093c9de43",
   "metadata": {},
   "outputs": [],
   "source": [
    "# import libraries\n",
    "from bs4 import BeautifulSoup\n",
    "import requests\n",
    "import time\n",
    "import datetime\n",
    "import smtplib"
   ]
  },
  {
   "cell_type": "code",
   "execution_count": 5,
   "id": "7bd29433-43b0-445f-bd40-4d847a181851",
   "metadata": {},
   "outputs": [
    {
     "name": "stdout",
     "output_type": "stream",
     "text": [
      "Sneaker COURT VISION LO\n",
      "79,99 €\n"
     ]
    }
   ],
   "source": [
    "# connect to website\n",
    "URL = 'https://www.deichmann.com/de-de/p-m01924140/02275277'\n",
    "page = requests.get(URL)\n",
    "soup = BeautifulSoup(page.content, \"html.parser\")\n",
    "title_element = soup.find(class_= \"product-name\")\n",
    "title = title_element.get_text(strip = True)\n",
    "price_element = soup.find(class_= \"price-info\")\n",
    "price = price_element.get_text(strip = True)\n",
    "print(title)\n",
    "print(price)"
   ]
  },
  {
   "cell_type": "code",
   "execution_count": 9,
   "id": "3fad11c1-527d-46bc-8da9-fe553eac59bf",
   "metadata": {},
   "outputs": [
    {
     "name": "stdout",
     "output_type": "stream",
     "text": [
      "2024-04-09\n"
     ]
    }
   ],
   "source": [
    "import datetime\n",
    "today = datetime.date.today()\n",
    "print(today)"
   ]
  },
  {
   "cell_type": "code",
   "execution_count": 10,
   "id": "ff73b2ea-ae59-4999-ae4b-b0b6982409ff",
   "metadata": {},
   "outputs": [],
   "source": [
    "# create a csv for our extracted data\n",
    "import csv\n",
    "\n",
    "header =['Title', 'Price', 'Date']\n",
    "data = [title, price, today]\n",
    "\n",
    "with open ('DeichWebScraperDataset.csv', 'w', newline = '', encoding = 'UTF8') as f:\n",
    "    writer = csv.writer(f)\n",
    "    writer.writerow(header)\n",
    "    writer.writerow(data)"
   ]
  },
  {
   "cell_type": "code",
   "execution_count": 15,
   "id": "0769f46d-f9f2-4963-bf08-535deebee833",
   "metadata": {},
   "outputs": [
    {
     "name": "stdout",
     "output_type": "stream",
     "text": [
      "                     Title    Price        Date\n",
      "0  Sneaker COURT VISION LO  79,99 €  2024-04-09\n",
      "1  Sneaker COURT VISION LO  79,99 €  2024-04-09\n",
      "2  Sneaker COURT VISION LO  79,99 €  2024-04-09\n"
     ]
    }
   ],
   "source": [
    "import pandas as pd\n",
    "df = pd.read_csv(r'C:\\Users\\immac\\DeichWebScraperDataset.csv')\n",
    "print(df)"
   ]
  },
  {
   "cell_type": "code",
   "execution_count": 14,
   "id": "f1b78b10-a1da-4b54-930e-e5e28782cc9a",
   "metadata": {},
   "outputs": [],
   "source": [
    "# now we append data to csv. a+ means append. here you change w which stands for write to a+ (append)\n",
    "with open ('DeichWebScraperDataset.csv', 'a+', newline = '', encoding = 'UTF8') as f:\n",
    "    writer = csv.writer(f)\n",
    "    writer.writerow(data)"
   ]
  },
  {
   "cell_type": "code",
   "execution_count": 18,
   "id": "7e081a97-5d10-4899-a9c8-d4ae0c092319",
   "metadata": {},
   "outputs": [],
   "source": [
    "def check_price():\n",
    "    URL = 'https://www.deichmann.com/de-de/p-m01924140/02275277'\n",
    "    page = requests.get(URL)\n",
    "    soup = BeautifulSoup(page.content, \"html.parser\")\n",
    "    title_element = soup.find(class_= \"product-name\")\n",
    "    title = title_element.get_text(strip = True)\n",
    "    price_element = soup.find(class_= \"price-info\")\n",
    "    price = price_element.get_text(strip = True)\n",
    "    import datetime\n",
    "    today = datetime.date.today()\n",
    "    import csv\n",
    "    header =['Title', 'Price', 'Date']\n",
    "    data = [title, price, today]\n",
    "    with open ('DeichWebScraperDataset.csv', 'a+', newline = '', encoding = 'UTF8') as f:\n",
    "        writer = csv.writer(f)\n",
    "        writer.writerow(data)"
   ]
  },
  {
   "cell_type": "code",
   "execution_count": null,
   "id": "527839e9-8180-4c83-9d39-da3c307726d4",
   "metadata": {},
   "outputs": [],
   "source": [
    "while(True):\n",
    "    check_price()\n",
    "    time.sleep(5)\n"
   ]
  },
  {
   "cell_type": "code",
   "execution_count": 1,
   "id": "aa90cf96-a537-4687-b966-5013bb8453a1",
   "metadata": {},
   "outputs": [
    {
     "name": "stdout",
     "output_type": "stream",
     "text": [
      "                     Title    Price        Date\n",
      "0  Sneaker COURT VISION LO  79,99 €  2024-04-09\n",
      "1  Sneaker COURT VISION LO  79,99 €  2024-04-09\n",
      "2  Sneaker COURT VISION LO  79,99 €  2024-04-09\n",
      "3  Sneaker COURT VISION LO  79,99 €  2024-04-09\n"
     ]
    }
   ],
   "source": [
    "import pandas as pd\n",
    "df = pd.read_csv(r'C:\\Users\\immac\\DeichWebScraperDataset.csv')\n",
    "print(df)"
   ]
  },
  {
   "cell_type": "code",
   "execution_count": null,
   "id": "0ca994cb-3f4b-463f-abc9-da53bf4ce67f",
   "metadata": {},
   "outputs": [],
   "source": []
  },
  {
   "cell_type": "code",
   "execution_count": null,
   "id": "c39256a9-e181-4d36-a05a-f0059ba5edaa",
   "metadata": {},
   "outputs": [],
   "source": []
  },
  {
   "cell_type": "code",
   "execution_count": null,
   "id": "ccfe3727-0955-40d5-aee2-86b2f1777047",
   "metadata": {},
   "outputs": [],
   "source": []
  },
  {
   "cell_type": "code",
   "execution_count": null,
   "id": "ddcde346-e440-4d8c-a921-0b85f38b136f",
   "metadata": {},
   "outputs": [],
   "source": []
  },
  {
   "cell_type": "code",
   "execution_count": null,
   "id": "2179b871-a550-4266-a342-9ce0ff64fbac",
   "metadata": {},
   "outputs": [],
   "source": []
  },
  {
   "cell_type": "code",
   "execution_count": null,
   "id": "790045e3-2e03-4a3b-b2ae-ac2ddd152281",
   "metadata": {},
   "outputs": [],
   "source": []
  },
  {
   "cell_type": "code",
   "execution_count": null,
   "id": "9bf4d84b-2eb4-40f1-9e37-d739b24ca81c",
   "metadata": {},
   "outputs": [],
   "source": []
  },
  {
   "cell_type": "code",
   "execution_count": null,
   "id": "f66ff606-2320-424f-a706-5104bb5a0eae",
   "metadata": {},
   "outputs": [],
   "source": []
  },
  {
   "cell_type": "code",
   "execution_count": null,
   "id": "77bd2f3d-9f40-48eb-be1e-8a8629c9146b",
   "metadata": {},
   "outputs": [],
   "source": []
  },
  {
   "cell_type": "code",
   "execution_count": null,
   "id": "d7530abc-c404-46dc-8681-2178d60249cf",
   "metadata": {},
   "outputs": [],
   "source": []
  }
 ],
 "metadata": {
  "kernelspec": {
   "display_name": "Python 3 (ipykernel)",
   "language": "python",
   "name": "python3"
  },
  "language_info": {
   "codemirror_mode": {
    "name": "ipython",
    "version": 3
   },
   "file_extension": ".py",
   "mimetype": "text/x-python",
   "name": "python",
   "nbconvert_exporter": "python",
   "pygments_lexer": "ipython3",
   "version": "3.11.7"
  }
 },
 "nbformat": 4,
 "nbformat_minor": 5
}
